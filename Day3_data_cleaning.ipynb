{
  "nbformat": 4,
  "nbformat_minor": 0,
  "metadata": {
    "colab": {
      "provenance": []
    },
    "kernelspec": {
      "name": "python3",
      "display_name": "Python 3"
    },
    "language_info": {
      "name": "python"
    }
  },
  "cells": [
    {
      "cell_type": "code",
      "execution_count": 1,
      "metadata": {
        "id": "DNA1wx_mpsrq"
      },
      "outputs": [],
      "source": [
        "import pandas as pd\n",
        "import numpy as np\n"
      ]
    },
    {
      "cell_type": "code",
      "source": [
        "df = pd.read_csv('/content/drive/MyDrive/LAB/Titanic-Dataset.csv')"
      ],
      "metadata": {
        "id": "x-ax5aoEqGiZ"
      },
      "execution_count": 2,
      "outputs": []
    },
    {
      "cell_type": "code",
      "source": [
        "# Check for null values (1 line)\n",
        "\n",
        "null_value = df.isnull().sum()\n",
        "print(null_value)\n"
      ],
      "metadata": {
        "colab": {
          "base_uri": "https://localhost:8080/"
        },
        "id": "iS82-hkYqlfD",
        "outputId": "0e950211-c377-40c9-a932-175e5b123cbb"
      },
      "execution_count": 3,
      "outputs": [
        {
          "output_type": "stream",
          "name": "stdout",
          "text": [
            "PassengerId      0\n",
            "Survived         0\n",
            "Pclass           0\n",
            "Name             0\n",
            "Sex              0\n",
            "Age            177\n",
            "SibSp            0\n",
            "Parch            0\n",
            "Ticket           0\n",
            "Fare             0\n",
            "Cabin          687\n",
            "Embarked         2\n",
            "dtype: int64\n"
          ]
        }
      ]
    },
    {
      "cell_type": "code",
      "source": [
        "null_value = df.isnull().sum()\n",
        "print(null_value,'\\n')\n",
        "# Fill null values for 'Embarked' with the mode(1 line)\n",
        "\n",
        "from sklearn.impute import SimpleImputer\n",
        "\n",
        "my_imputer = SimpleImputer(missing_values=np.nan ,strategy='most_frequent')\n",
        "\n",
        "df[['Embarked']] = pd.DataFrame(my_imputer.fit_transform(df[['Embarked']]))\n",
        "\n",
        "\n",
        "null_value = df.isnull().sum()\n",
        "print(null_value)\n"
      ],
      "metadata": {
        "colab": {
          "base_uri": "https://localhost:8080/"
        },
        "id": "1UykjjVorlal",
        "outputId": "291469e7-f548-4b59-8f3a-b78c3e6f44e8"
      },
      "execution_count": 4,
      "outputs": [
        {
          "output_type": "stream",
          "name": "stdout",
          "text": [
            "PassengerId      0\n",
            "Survived         0\n",
            "Pclass           0\n",
            "Name             0\n",
            "Sex              0\n",
            "Age            177\n",
            "SibSp            0\n",
            "Parch            0\n",
            "Ticket           0\n",
            "Fare             0\n",
            "Cabin          687\n",
            "Embarked         2\n",
            "dtype: int64 \n",
            "\n",
            "PassengerId      0\n",
            "Survived         0\n",
            "Pclass           0\n",
            "Name             0\n",
            "Sex              0\n",
            "Age            177\n",
            "SibSp            0\n",
            "Parch            0\n",
            "Ticket           0\n",
            "Fare             0\n",
            "Cabin          687\n",
            "Embarked         0\n",
            "dtype: int64\n"
          ]
        }
      ]
    },
    {
      "cell_type": "code",
      "source": [
        "# Drop rows with null values in 'Cabin' (or alternatively, you can fill it with a placeholder) (1 line)\n",
        "df.dropna(subset=['Cabin'], inplace = True)\n",
        "print(df.isnull().sum())\n",
        "print(df.Cabin)\n"
      ],
      "metadata": {
        "colab": {
          "base_uri": "https://localhost:8080/"
        },
        "id": "yklwUeG0KDiM",
        "outputId": "b9265f14-0573-43b2-bf08-9e45951a4194"
      },
      "execution_count": 5,
      "outputs": [
        {
          "output_type": "stream",
          "name": "stdout",
          "text": [
            "PassengerId     0\n",
            "Survived        0\n",
            "Pclass          0\n",
            "Name            0\n",
            "Sex             0\n",
            "Age            19\n",
            "SibSp           0\n",
            "Parch           0\n",
            "Ticket          0\n",
            "Fare            0\n",
            "Cabin           0\n",
            "Embarked        0\n",
            "dtype: int64\n",
            "1              C85\n",
            "3             C123\n",
            "6              E46\n",
            "10              G6\n",
            "11            C103\n",
            "          ...     \n",
            "871            D35\n",
            "872    B51 B53 B55\n",
            "879            C50\n",
            "887            B42\n",
            "889           C148\n",
            "Name: Cabin, Length: 204, dtype: object\n"
          ]
        }
      ]
    },
    {
      "cell_type": "code",
      "source": [
        "# Check for duplicates (1 line)\n",
        "\n",
        "df.duplicated().sum()\n",
        "# Drop duplicates if any (1 line)"
      ],
      "metadata": {
        "colab": {
          "base_uri": "https://localhost:8080/"
        },
        "id": "pxNqAHOeLGd_",
        "outputId": "720f2276-3361-4743-a8a3-226cc96bf714"
      },
      "execution_count": 6,
      "outputs": [
        {
          "output_type": "execute_result",
          "data": {
            "text/plain": [
              "0"
            ]
          },
          "metadata": {},
          "execution_count": 6
        }
      ]
    },
    {
      "cell_type": "code",
      "source": [
        "\n",
        "# Function to remove outliers using the IQR method\n",
        "print(df.Fare)\n",
        "def remove_outliers(df, column):\n",
        "  Q1 = df[column].quantile(0.25)\n",
        "  Q3 = df[column].quantile(0.75)\n",
        "  IQR = Q3 - Q1\n",
        "  lower_bound = Q1 - 1.5 * IQR\n",
        "  upper_bound = Q1 + 1.5 * IQR\n",
        "  return df[(df[column] >= lower_bound) & (df[column] <= upper_bound) ]\n",
        "\n",
        "  # Remove outliers from 'Fare' using the remove_outilers function (1 line)\n",
        "\n",
        "remove_outliers(df, 'Fare')\n",
        "\n",
        "print(df.Fare)\n",
        "\n"
      ],
      "metadata": {
        "colab": {
          "base_uri": "https://localhost:8080/"
        },
        "id": "Khu0jHHJO3V0",
        "outputId": "fbe1c1e0-dac0-4338-879c-b2899850a302"
      },
      "execution_count": 7,
      "outputs": [
        {
          "output_type": "stream",
          "name": "stdout",
          "text": [
            "1      71.2833\n",
            "3      53.1000\n",
            "6      51.8625\n",
            "10     16.7000\n",
            "11     26.5500\n",
            "        ...   \n",
            "871    52.5542\n",
            "872     5.0000\n",
            "879    83.1583\n",
            "887    30.0000\n",
            "889    30.0000\n",
            "Name: Fare, Length: 204, dtype: float64\n",
            "1      71.2833\n",
            "3      53.1000\n",
            "6      51.8625\n",
            "10     16.7000\n",
            "11     26.5500\n",
            "        ...   \n",
            "871    52.5542\n",
            "872     5.0000\n",
            "879    83.1583\n",
            "887    30.0000\n",
            "889    30.0000\n",
            "Name: Fare, Length: 204, dtype: float64\n"
          ]
        }
      ]
    },
    {
      "cell_type": "code",
      "source": [
        "from sklearn.preprocessing import StandardScaler, MinMaxScaler\n",
        "\n",
        "# Standard scaling for 'Fare' (2 lines)\n",
        "\n",
        "scaler = StandardScaler()\n",
        "standardized_fare = pd.DataFrame(scaler.fit_transform(df[['Fare']]), columns=['Fare'])\n",
        "\n",
        "print(standardized_fare,'\\n')\n",
        "# Min-Max scaling for 'Age' (2 lines)\n",
        "scaler = MinMaxScaler()\n",
        "MinMax_Age = pd.DataFrame(scaler.fit_transform(df[['Age']]), columns=['Age'])\n",
        "print(MinMax_Age)"
      ],
      "metadata": {
        "colab": {
          "base_uri": "https://localhost:8080/"
        },
        "id": "6zfofQZmlCzm",
        "outputId": "af1493c6-c9c4-4b3a-d280-76105c174b17"
      },
      "execution_count": 8,
      "outputs": [
        {
          "output_type": "stream",
          "name": "stdout",
          "text": [
            "         Fare\n",
            "0   -0.065466\n",
            "1   -0.310494\n",
            "2   -0.327170\n",
            "3   -0.800999\n",
            "4   -0.668266\n",
            "..        ...\n",
            "199 -0.317849\n",
            "200 -0.958662\n",
            "201  0.094554\n",
            "202 -0.621776\n",
            "203 -0.621776\n",
            "\n",
            "[204 rows x 1 columns] \n",
            "\n",
            "          Age\n",
            "0    0.468892\n",
            "1    0.430956\n",
            "2    0.671219\n",
            "3    0.038948\n",
            "4    0.721801\n",
            "..        ...\n",
            "199  0.582701\n",
            "200  0.405665\n",
            "201  0.696510\n",
            "202  0.228629\n",
            "203  0.317147\n",
            "\n",
            "[204 rows x 1 columns]\n"
          ]
        }
      ]
    },
    {
      "cell_type": "code",
      "source": [
        "# One-hot encoding for 'Embarked' and 'Sex' (1 line)\n",
        "\n",
        "one_hot_encoding = pd.get_dummies(df, columns= ['Embarked','Sex'])\n",
        "print(one_hot_encoding)"
      ],
      "metadata": {
        "colab": {
          "base_uri": "https://localhost:8080/"
        },
        "id": "SmMk91kVQhDO",
        "outputId": "b1c912e9-7876-49a7-e2fc-d272d421e0ab"
      },
      "execution_count": 9,
      "outputs": [
        {
          "output_type": "stream",
          "name": "stdout",
          "text": [
            "     PassengerId  Survived  Pclass  \\\n",
            "1              2         1       1   \n",
            "3              4         1       1   \n",
            "6              7         0       1   \n",
            "10            11         1       3   \n",
            "11            12         1       1   \n",
            "..           ...       ...     ...   \n",
            "871          872         1       1   \n",
            "872          873         0       1   \n",
            "879          880         1       1   \n",
            "887          888         1       1   \n",
            "889          890         1       1   \n",
            "\n",
            "                                                  Name   Age  SibSp  Parch  \\\n",
            "1    Cumings, Mrs. John Bradley (Florence Briggs Th...  38.0      1      0   \n",
            "3         Futrelle, Mrs. Jacques Heath (Lily May Peel)  35.0      1      0   \n",
            "6                              McCarthy, Mr. Timothy J  54.0      0      0   \n",
            "10                     Sandstrom, Miss. Marguerite Rut   4.0      1      1   \n",
            "11                            Bonnell, Miss. Elizabeth  58.0      0      0   \n",
            "..                                                 ...   ...    ...    ...   \n",
            "871   Beckwith, Mrs. Richard Leonard (Sallie Monypeny)  47.0      1      1   \n",
            "872                           Carlsson, Mr. Frans Olof  33.0      0      0   \n",
            "879      Potter, Mrs. Thomas Jr (Lily Alexenia Wilson)  56.0      0      1   \n",
            "887                       Graham, Miss. Margaret Edith  19.0      0      0   \n",
            "889                              Behr, Mr. Karl Howell  26.0      0      0   \n",
            "\n",
            "       Ticket     Fare        Cabin  Embarked_C  Embarked_Q  Embarked_S  \\\n",
            "1    PC 17599  71.2833          C85        True       False       False   \n",
            "3      113803  53.1000         C123       False       False        True   \n",
            "6       17463  51.8625          E46       False       False        True   \n",
            "10    PP 9549  16.7000           G6       False       False        True   \n",
            "11     113783  26.5500         C103       False       False        True   \n",
            "..        ...      ...          ...         ...         ...         ...   \n",
            "871     11751  52.5542          D35       False       False        True   \n",
            "872       695   5.0000  B51 B53 B55       False       False        True   \n",
            "879     11767  83.1583          C50        True       False       False   \n",
            "887    112053  30.0000          B42       False       False        True   \n",
            "889    111369  30.0000         C148        True       False       False   \n",
            "\n",
            "     Sex_female  Sex_male  \n",
            "1          True     False  \n",
            "3          True     False  \n",
            "6         False      True  \n",
            "10         True     False  \n",
            "11         True     False  \n",
            "..          ...       ...  \n",
            "871        True     False  \n",
            "872       False      True  \n",
            "879        True     False  \n",
            "887        True     False  \n",
            "889       False      True  \n",
            "\n",
            "[204 rows x 15 columns]\n"
          ]
        }
      ]
    }
  ]
}