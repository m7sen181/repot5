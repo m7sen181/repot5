{
 "cells": [
  {
   "cell_type": "markdown",
   "id": "6edf0915",
   "metadata": {},
   "source": [
    "# MINI-PROJECT"
   ]
  },
  {
   "cell_type": "markdown",
   "id": "cf19bf02",
   "metadata": {},
   "source": [
    "# Dataset Top-View Vehicle Image Dataset and Manually Collected Data\n",
    "\n",
    "## Overview\n",
    "The Top-View Vehicle Image Dataset Classification dataset contains images of Top-View Vehicle intended for binary image classification tasks. The goal is to classify images based on Street View.\n",
    "\n",
    "- **Dataset URL:** [Top-View Vehicle Detection Image Dataset](https://www.kaggle.com/datasets/farzadnekouei/top-view-vehicle-detection-image-dataset/data)\n",
    "- **Dataset Size:** ~50 MB\n",
    "- **Classes:** 2 (Traffic Jam, Empty Street)\n",
    "- **Image Format:** JPEG\n",
    "\n",
    "## Structure\n",
    "\n",
    "### Folders\n",
    "The dataset is organized into two main folders:\n",
    "\n",
    "- `traindata/`:\n",
    "  - `traindata/`: Contains the training images.\n",
    "    - `Jam/`: Contains images of men.\n",
    "    - `Empty/`: Contains images of women.\n",
    "\n",
    "- `testdata/`:\n",
    "  - `testdata/`: Contains the testing images.\n",
    "    - `Jam/`: Contains images of men.\n",
    "    - `Empty/`: Contains images of women.\n",
    "\n",
    "### Example Files\n",
    "Here are some example file names you might find in the dataset:\n",
    "\n",
    "- `traindata/traindata/Jam/5_mp4-26_jpg.rf.61d8ef7774c6c33aa7015c91dc91aa34.jpg`\n",
    "- `traindata/traindata/women/12_mp4-27_jpg.rf.2b272befa75f6ccd269223ccc84e5391.jpg`\n",
    "- `testdata/testdata/men/10_mp4-31_jpg.rf.0daa09b648954e3a19824a49ad49876e.jpg`\n",
    "- `testdata/testdata/women/7_mp4-16_jpg.rf.4adf9f6fc7b5f6571fd1ef429cd79026.jpg`\n",
    "\n",
    "### Image Specifications\n",
    "- **Resolution:** Varies\n",
    "- **Color:** RGB\n",
    "\n",
    "## Usage\n",
    "This dataset is ideal for practicing binary image classification using Convolutional Neural Networks (CNNs). It can be used to train a model to distinguish between images of Jam and Empty Street."
   ]
  },
  {
   "cell_type": "markdown",
   "id": "c25150e3",
   "metadata": {},
   "source": [
    "## Step 1: Import Required Libraries\n",
    "Begin by importing the necessary libraries."
   ]
  },
  {
   "cell_type": "code",
   "execution_count": 1,
   "id": "aaa74530",
   "metadata": {},
   "outputs": [],
   "source": [
    "# Import libraries\n",
    "import tensorflow as tf\n",
    "from tensorflow.keras.models import Sequential\n",
    "from tensorflow.keras.layers import Conv2D, MaxPooling2D, Flatten, Dense, Dropout\n",
    "from tensorflow.keras.preprocessing.image import ImageDataGenerator\n",
    "import numpy as np\n",
    "import matplotlib.pyplot as plt\n",
    "from keras import layers, models, datasets\n",
    "import cv2"
   ]
  },
  {
   "cell_type": "markdown",
   "id": "9df0ba8e",
   "metadata": {},
   "source": [
    "## Step 2: Load and Preprocess Data\n",
    "Load your dataset and preprocess it. This may include resizing images, normalizing pixel values, and splitting the data into training and validation sets."
   ]
  },
  {
   "cell_type": "code",
   "execution_count": 2,
   "id": "561c0bac",
   "metadata": {},
   "outputs": [],
   "source": [
    "\n",
    "\n",
    "import os\n",
    "for dirname, _, filenames in os.walk('/Users/abd/Desktop/Data Science/Data set/archive'):\n",
    "    for filename in filenames:\n",
    "        os.path.join(dirname, filename)\n",
    "\n"
   ]
  },
  {
   "cell_type": "markdown",
   "id": "2932d543",
   "metadata": {},
   "source": [
    "## Step 3: Data Augmentation\n",
    "To prevent overfitting, augment your data using various transformations like rotation, zoom, flip, etc."
   ]
  },
  {
   "cell_type": "code",
   "execution_count": 2,
   "id": "b0e284f7",
   "metadata": {},
   "outputs": [
    {
     "name": "stdout",
     "output_type": "stream",
     "text": [
      "Found 653 images belonging to 2 classes.\n",
      "Found 88 images belonging to 2 classes.\n"
     ]
    }
   ],
   "source": [
    "\n",
    "\n",
    "train_data = ImageDataGenerator(\n",
    "        rescale=1./255,\n",
    "        shear_range=0.2,\n",
    "        zoom_range=0.2,\n",
    "        horizontal_flip=True)\n",
    "\n",
    "\n",
    "test_data = ImageDataGenerator(rescale=1./255,)\n",
    "\n",
    "training_set = train_data.flow_from_directory(\n",
    "        'train',\n",
    "        target_size=(64, 64),\n",
    "        batch_size=32,\n",
    "        class_mode='binary')\n",
    "\n",
    "test_set = test_data.flow_from_directory(\n",
    "        'valid',\n",
    "        target_size=(64, 64),\n",
    "        batch_size=32,\n",
    "        class_mode='binary')\n"
   ]
  },
  {
   "cell_type": "markdown",
   "id": "a52b328a",
   "metadata": {},
   "source": [
    "## Step 3: Check label and one image\n",
    "To prevent overfitting, augment your data using various transformations like rotation, zoom, flip, etc."
   ]
  },
  {
   "cell_type": "code",
   "execution_count": 3,
   "id": "55b1226d",
   "metadata": {},
   "outputs": [
    {
     "name": "stdout",
     "output_type": "stream",
     "text": [
      "{'traffic': 0, 'untraffic': 1}\n",
      "653\n"
     ]
    }
   ],
   "source": [
    "print(training_set.class_indices)\n",
    "print(training_set.samples)"
   ]
  },
  {
   "cell_type": "code",
   "execution_count": 173,
   "id": "6fcb03e3",
   "metadata": {},
   "outputs": [
    {
     "name": "stdout",
     "output_type": "stream",
     "text": [
      "{'traffic': 0, 'untraffic': 1}\n"
     ]
    }
   ],
   "source": [
    "print(test_set.class_indices)\n"
   ]
  },
  {
   "cell_type": "code",
   "execution_count": 174,
   "id": "1574acc2",
   "metadata": {},
   "outputs": [
    {
     "data": {
      "image/png": "[encoded data removed]",
      "text/plain": [
       "<Figure size 640x480 with 1 Axes>"
      ]
     },
     "metadata": {},
     "output_type": "display_data"
    }
   ],
   "source": [
    "x_batch, y_batch = next(training_set)\n",
    "image = x_batch[1]\n",
    "label = y_batch[1]\n",
    "\n",
    "plt.imshow(image)\n",
    "plt.title(f'Label: {label}')\n",
    "plt.axis('off')  \n",
    "plt.show()"
   ]
  },
  {
   "cell_type": "markdown",
   "id": "d77d214a",
   "metadata": {},
   "source": [
    "## Step 4: Build the CNN Model\n",
    "Define the architecture of your CNN model. Start with convolutional layers followed by pooling layers, and end with fully connected layers."
   ]
  },
  {
   "cell_type": "code",
   "execution_count": 175,
   "id": "c4177f7f",
   "metadata": {},
   "outputs": [
    {
     "name": "stdout",
     "output_type": "stream",
     "text": [
      "Model: \"sequential_11\"\n",
      "_________________________________________________________________\n",
      " Layer (type)                Output Shape              Param #   \n",
      "=================================================================\n",
      " conv2d_14 (Conv2D)          (None, 64, 64, 32)        896       \n",
      "                                                                 \n",
      " conv2d_15 (Conv2D)          (None, 64, 64, 64)        18496     \n",
      "                                                                 \n",
      " max_pooling2d_11 (MaxPoolin  (None, 32, 32, 64)       0         \n",
      " g2D)                                                            \n",
      "                                                                 \n",
      " flatten_11 (Flatten)        (None, 65536)             0         \n",
      "                                                                 \n",
      " dense_22 (Dense)            (None, 128)               8388736   \n",
      "                                                                 \n",
      " dense_23 (Dense)            (None, 1)                 129       \n",
      "                                                                 \n",
      "=================================================================\n",
      "Total params: 8,408,257\n",
      "Trainable params: 8,408,257\n",
      "Non-trainable params: 0\n",
      "_________________________________________________________________\n"
     ]
    }
   ],
   "source": [
    "\n",
    "\n",
    "model = models.Sequential([\n",
    "                          layers.Conv2D(32, kernel_size=(3, 3), activation='relu',padding=\"same\", input_shape=(64, 64,3)),\n",
    "                          layers.Conv2D(64, kernel_size=(3, 3), activation='relu',padding=\"same\"),\n",
    "                          layers.MaxPool2D(2,2),\n",
    "                          layers.Flatten(),\n",
    "                          layers.Dense(128, activation=\"relu\"),\n",
    "                          layers.Dense(1, activation=\"sigmoid\")\n",
    "                          ])\n",
    "\n",
    "# Compile the model\n",
    "\n",
    "model.summary()"
   ]
  },
  {
   "cell_type": "markdown",
   "id": "066c1d25",
   "metadata": {},
   "source": [
    "## Step 5: Compile the Model\n",
    "Compile your model by specifying the optimizer, loss function, and evaluation metrics."
   ]
  },
  {
   "cell_type": "code",
   "execution_count": 176,
   "id": "83b3fe4b",
   "metadata": {},
   "outputs": [],
   "source": [
    "model.compile(optimizer='adam',\n",
    "              loss='binary_crossentropy',\n",
    "              metrics=['accuracy'])"
   ]
  },
  {
   "cell_type": "markdown",
   "id": "eec6e31d",
   "metadata": {},
   "source": [
    "## Step 6: Train the Model\n",
    "Train your model using the training data and validate it using the validation data."
   ]
  },
  {
   "cell_type": "code",
   "execution_count": 177,
   "id": "cd761a43",
   "metadata": {},
   "outputs": [
    {
     "name": "stdout",
     "output_type": "stream",
     "text": [
      "Epoch 1/30\n",
      "21/21 [==============================] - 3s 111ms/step - loss: 0.8486 - accuracy: 0.6570\n",
      "Epoch 2/30\n",
      "21/21 [==============================] - 3s 132ms/step - loss: 0.2595 - accuracy: 0.8928\n",
      "Epoch 3/30\n",
      "21/21 [==============================] - 2s 105ms/step - loss: 0.1513 - accuracy: 0.9433\n",
      "Epoch 4/30\n",
      "21/21 [==============================] - 2s 113ms/step - loss: 0.0828 - accuracy: 0.9709\n",
      "Epoch 5/30\n",
      "21/21 [==============================] - 2s 102ms/step - loss: 0.0669 - accuracy: 0.9816\n",
      "Epoch 6/30\n",
      "21/21 [==============================] - 2s 104ms/step - loss: 0.0913 - accuracy: 0.9632\n",
      "Epoch 7/30\n",
      "21/21 [==============================] - 2s 100ms/step - loss: 0.0920 - accuracy: 0.9740\n",
      "Epoch 8/30\n",
      "21/21 [==============================] - 2s 103ms/step - loss: 0.0538 - accuracy: 0.9816\n",
      "Epoch 9/30\n",
      "21/21 [==============================] - 2s 103ms/step - loss: 0.0229 - accuracy: 0.9939\n",
      "Epoch 10/30\n",
      "21/21 [==============================] - 2s 108ms/step - loss: 0.0252 - accuracy: 0.9939\n",
      "Epoch 11/30\n",
      "21/21 [==============================] - 2s 102ms/step - loss: 0.0184 - accuracy: 0.9939\n",
      "Epoch 12/30\n",
      "21/21 [==============================] - 2s 107ms/step - loss: 0.0187 - accuracy: 0.9954\n",
      "Epoch 13/30\n",
      "21/21 [==============================] - 2s 110ms/step - loss: 0.0467 - accuracy: 0.9877\n",
      "Epoch 14/30\n",
      "21/21 [==============================] - 2s 99ms/step - loss: 0.0248 - accuracy: 0.9954\n",
      "Epoch 15/30\n",
      "21/21 [==============================] - 3s 123ms/step - loss: 0.0169 - accuracy: 0.9969\n",
      "Epoch 16/30\n",
      "21/21 [==============================] - 2s 111ms/step - loss: 0.0078 - accuracy: 0.9985\n",
      "Epoch 17/30\n",
      "21/21 [==============================] - 3s 140ms/step - loss: 0.0109 - accuracy: 0.9969\n",
      "Epoch 18/30\n",
      "21/21 [==============================] - 3s 126ms/step - loss: 0.0123 - accuracy: 0.9954\n",
      "Epoch 19/30\n",
      "21/21 [==============================] - 2s 105ms/step - loss: 0.0074 - accuracy: 0.9954\n",
      "Epoch 20/30\n",
      "21/21 [==============================] - 3s 119ms/step - loss: 0.0050 - accuracy: 1.0000\n",
      "Epoch 21/30\n",
      "21/21 [==============================] - 3s 127ms/step - loss: 0.0092 - accuracy: 0.9969\n",
      "Epoch 22/30\n",
      "21/21 [==============================] - 3s 119ms/step - loss: 0.0022 - accuracy: 1.0000\n",
      "Epoch 23/30\n",
      "21/21 [==============================] - 2s 117ms/step - loss: 0.0031 - accuracy: 1.0000\n",
      "Epoch 24/30\n",
      "21/21 [==============================] - 2s 98ms/step - loss: 0.0224 - accuracy: 0.9939\n",
      "Epoch 25/30\n",
      "21/21 [==============================] - 2s 112ms/step - loss: 0.0244 - accuracy: 0.9862\n",
      "Epoch 26/30\n",
      "21/21 [==============================] - 3s 104ms/step - loss: 0.0169 - accuracy: 0.9939\n",
      "Epoch 27/30\n",
      "21/21 [==============================] - 3s 124ms/step - loss: 0.0072 - accuracy: 0.9954\n",
      "Epoch 28/30\n",
      "21/21 [==============================] - 2s 110ms/step - loss: 0.0022 - accuracy: 1.0000\n",
      "Epoch 29/30\n",
      "21/21 [==============================] - 3s 130ms/step - loss: 0.0068 - accuracy: 0.9969\n",
      "Epoch 30/30\n",
      "21/21 [==============================] - 2s 107ms/step - loss: 0.0030 - accuracy: 1.0000\n"
     ]
    }
   ],
   "source": [
    "\n",
    "history=model.fit(\n",
    "        training_set,\n",
    "        epochs=30,\n",
    "        batch_size=64,\n",
    "        )"
   ]
  },
  {
   "cell_type": "markdown",
   "id": "37e265a8",
   "metadata": {},
   "source": [
    "## Step 7: Evaluate the Model\n",
    "Evaluate the performance of your model using the validation set."
   ]
  },
  {
   "cell_type": "code",
   "execution_count": 178,
   "id": "08f53419",
   "metadata": {},
   "outputs": [
    {
     "name": "stdout",
     "output_type": "stream",
     "text": [
      "WARNING:tensorflow:5 out of the last 16 calls to <function Model.make_test_function.<locals>.test_function at 0x0000019BDA516EF0> triggered tf.function retracing. Tracing is expensive and the excessive number of tracings could be due to (1) creating @tf.function repeatedly in a loop, (2) passing tensors with different shapes, (3) passing Python objects instead of tensors. For (1), please define your @tf.function outside of the loop. For (2), @tf.function has experimental_relax_shapes=True option that relaxes argument shapes that can avoid unnecessary retracing. For (3), please refer to https://www.tensorflow.org/guide/function#controlling_retracing and https://www.tensorflow.org/api_docs/python/tf/function for  more details.\n",
      "3/3 [==============================] - 0s 36ms/step - loss: 0.7327 - accuracy: 0.8636\n"
     ]
    },
    {
     "data": {
      "text/plain": [
       "[0.7327056527137756, 0.8636363744735718]"
      ]
     },
     "execution_count": 178,
     "metadata": {},
     "output_type": "execute_result"
    }
   ],
   "source": [
    "model.evaluate(test_set)"
   ]
  },
  {
   "cell_type": "markdown",
   "id": "eb612a4c",
   "metadata": {},
   "source": [
    "## Step 8: Save the Model\n",
    "Finally, save your trained model for future use."
   ]
  },
  {
   "cell_type": "code",
   "execution_count": 17,
   "id": "9688067c",
   "metadata": {},
   "outputs": [
    {
     "name": "stderr",
     "output_type": "stream",
     "text": [
      "c:\\Users\\modya\\anaconda3\\lib\\site-packages\\keras\\src\\engine\\training.py:3079: UserWarning: You are saving your model as an HDF5 file via `model.save()`. This file format is considered legacy. We recommend using instead the native Keras format, e.g. `model.save('my_model.keras')`.\n",
      "  saving_api.save_model(\n"
     ]
    }
   ],
   "source": [
    "##model.save('Abd_cnn_model.h5')"
   ]
  },
  {
   "cell_type": "code",
   "execution_count": 18,
   "id": "43873630",
   "metadata": {},
   "outputs": [],
   "source": [
    "model=tf.keras.models.load_model(\"Abd_cnn_model.h5\")"
   ]
  },
  {
   "cell_type": "code",
   "execution_count": 23,
   "id": "991b7c9f",
   "metadata": {},
   "outputs": [
    {
     "name": "stdout",
     "output_type": "stream",
     "text": [
      "0.0\n",
      "1/1 [==============================] - 0s 53ms/step\n",
      "[[0.9998993]]\n",
      "{'traffic': 0, 'untraffic': 1}\n"
     ]
    },
    {
     "data": {
      "text/plain": [
       "(-0.5, 63.5, 63.5, -0.5)"
      ]
     },
     "execution_count": 23,
     "metadata": {},
     "output_type": "execute_result"
    },
    {
     "data": {
      "image/png": "[encoded data removed]",
      "text/plain": [
       "<Figure size 1000x500 with 2 Axes>"
      ]
     },
     "metadata": {},
     "output_type": "display_data"
    }
   ],
   "source": [
    "x_batch, y_batch = next(test_set)\n",
    "k=np.random.randint(len(x_batch))\n",
    "def make_gradcam_heatmap(img_array, model, last_conv_layer_name, pred_index=None):\n",
    "    grad_model = tf.keras.models.Model(\n",
    "        [model.inputs], [model.get_layer(last_conv_layer_name).output, model.output]\n",
    "    )\n",
    "\n",
    "    with tf.GradientTape() as tape:\n",
    "        last_conv_layer_output, preds = grad_model(img_array)\n",
    "        if pred_index is None:\n",
    "            pred_index = tf.argmax(preds[0])\n",
    "        class_channel = preds[:, pred_index]\n",
    "\n",
    "  \n",
    "    grads = tape.gradient(class_channel, last_conv_layer_output)\n",
    "\n",
    "  \n",
    "    pooled_grads = tf.reduce_mean(grads, axis=(0, 1, 2))\n",
    "\n",
    "    \n",
    "    last_conv_layer_output = last_conv_layer_output[0]\n",
    "    heatmap = last_conv_layer_output @ pooled_grads[..., tf.newaxis]\n",
    "    heatmap = tf.squeeze(heatmap)\n",
    "\n",
    "    heatmap = tf.maximum(heatmap, 0) / tf.math.reduce_max(heatmap)\n",
    "    return heatmap.numpy()\n",
    "\n",
    "\n",
    "\n",
    "image = x_batch[k]\n",
    "print(y_batch[k])\n",
    "print(model.predict(np.expand_dims(image,axis=0)))\n",
    "\n",
    "\n",
    "  \n",
    "last_conv_layer_name = 'conv2d_15'  \n",
    "\n",
    "heatmap = make_gradcam_heatmap(np.expand_dims(image,axis=0), model, last_conv_layer_name)\n",
    "\n",
    "print(training_set.class_indices)\n",
    "\n",
    "fig, ax = plt.subplots(1, 2, figsize=(10, 5))\n",
    "\n",
    "ax[0].imshow(image)\n",
    "ax[0].set_title(\"Original Image\")\n",
    "ax[0].axis('off')\n",
    "\n",
    "ax[1].matshow(heatmap, cmap='viridis')\n",
    "ax[1].set_title(\"Grad-CAM Heatmap\")\n",
    "ax[1].axis('off')\n"
   ]
  }
 ],
 "metadata": {
  "kernelspec": {
   "display_name": "base",
   "language": "python",
   "name": "python3"
  },
  "language_info": {
   "codemirror_mode": {
    "name": "ipython",
    "version": 3
   },
   "file_extension": ".py",
   "mimetype": "text/x-python",
   "name": "python",
   "nbconvert_exporter": "python",
   "pygments_lexer": "ipython3",
   "version": "3.9.13"
  }
 },
 "nbformat": 4,
 "nbformat_minor": 5
}
